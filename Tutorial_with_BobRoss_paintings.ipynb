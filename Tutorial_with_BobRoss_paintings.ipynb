{
  "nbformat": 4,
  "nbformat_minor": 0,
  "metadata": {
    "colab": {
      "provenance": [],
      "authorship_tag": "ABX9TyP+2JAlaWIi8qx3MLh+Y6Kf",
      "include_colab_link": true
    },
    "kernelspec": {
      "name": "python3",
      "display_name": "Python 3"
    },
    "language_info": {
      "name": "python"
    }
  },
  "cells": [
    {
      "cell_type": "markdown",
      "metadata": {
        "id": "view-in-github",
        "colab_type": "text"
      },
      "source": [
        "<a href=\"https://colab.research.google.com/github/EgorDudyrev/caspailleur/blob/main/Tutorial_with_BobRoss_paintings.ipynb\" target=\"_parent\"><img src=\"https://colab.research.google.com/assets/colab-badge.svg\" alt=\"Open In Colab\"/></a>"
      ]
    },
    {
      "cell_type": "markdown",
      "source": [
        "# Study Bob Ross paintings with Caspailleur\n",
        "\n",
        "![Bob Ross hardcover book photo](https://m.media-amazon.com/images/I/A1BxQEoVjjL._AC_UF1000,1000_QL80_.jpg)\n",
        "*Bob Ross: The Joy of Painting Hardcover – Illustrated, October 10, 2017 @ Available at [Amazon](https://www.amazon.com/Bob-Ross-Joy-Painting/dp/0789332973)*"
      ],
      "metadata": {
        "id": "L-1zNl3YkxQ5"
      }
    },
    {
      "cell_type": "markdown",
      "source": [
        "Load the dataset, described in \"A Statistical Analysis of the Work of Bob Ross\" by Walt Hickey at [FiveThirtyEight](https://fivethirtyeight.com/features/a-statistical-analysis-of-the-work-of-bob-ross/)"
      ],
      "metadata": {
        "id": "5ePLv5Xxl23f"
      }
    },
    {
      "cell_type": "code",
      "source": [
        "import pandas as pd\n",
        "\n",
        "url = 'https://pkgstore.datahub.io/five-thirty-eight/bob-ross/elements-by-episode_csv/data/c01dcab932c6e70122e9f924caece31b/elements-by-episode_csv.csv'\n",
        "df = pd.read_csv(url)\n",
        "df = df.drop(columns='title').set_index('episode')\n",
        "assert (df.values.astype(bool)==df.values).all(),  \"The data is not binary\"\n",
        "\n",
        "print(df.shape)\n",
        "df.head()"
      ],
      "metadata": {
        "colab": {
          "base_uri": "https://localhost:8080/",
          "height": 345
        },
        "id": "tf-oV3oMlvR1",
        "outputId": "cf89f855-f5e7-42d5-b2f6-edc362e3dfdb"
      },
      "execution_count": 1,
      "outputs": [
        {
          "output_type": "stream",
          "name": "stdout",
          "text": [
            "(403, 67)\n"
          ]
        },
        {
          "output_type": "execute_result",
          "data": {
            "text/plain": [
              "         apple_frame  aurora_borealis  barn  beach  boat  bridge  building  \\\n",
              "episode                                                                      \n",
              "s01e01             0                0     0      0     0       0         0   \n",
              "s01e02             0                0     0      0     0       0         0   \n",
              "s01e03             0                0     0      0     0       0         0   \n",
              "s01e04             0                0     0      0     0       0         0   \n",
              "s01e05             0                0     0      0     0       0         0   \n",
              "\n",
              "         bushes  cabin  cactus  ...  tomb_frame  tree  trees  triple_frame  \\\n",
              "episode                         ...                                          \n",
              "s01e01        1      0       0  ...           0     1      1             0   \n",
              "s01e02        0      1       0  ...           0     1      1             0   \n",
              "s01e03        0      1       0  ...           0     1      1             0   \n",
              "s01e04        1      0       0  ...           0     1      1             0   \n",
              "s01e05        0      0       0  ...           0     1      1             0   \n",
              "\n",
              "         waterfall  waves  windmill  window_frame  winter  wood_framed  \n",
              "episode                                                                 \n",
              "s01e01           0      0         0             0       0            0  \n",
              "s01e02           0      0         0             0       1            0  \n",
              "s01e03           0      0         0             0       1            0  \n",
              "s01e04           0      0         0             0       0            0  \n",
              "s01e05           0      0         0             0       0            0  \n",
              "\n",
              "[5 rows x 67 columns]"
            ],
            "text/html": [
              "\n",
              "  <div id=\"df-7da3ecdb-3f26-407a-970b-27e7231f1d88\">\n",
              "    <div class=\"colab-df-container\">\n",
              "      <div>\n",
              "<style scoped>\n",
              "    .dataframe tbody tr th:only-of-type {\n",
              "        vertical-align: middle;\n",
              "    }\n",
              "\n",
              "    .dataframe tbody tr th {\n",
              "        vertical-align: top;\n",
              "    }\n",
              "\n",
              "    .dataframe thead th {\n",
              "        text-align: right;\n",
              "    }\n",
              "</style>\n",
              "<table border=\"1\" class=\"dataframe\">\n",
              "  <thead>\n",
              "    <tr style=\"text-align: right;\">\n",
              "      <th></th>\n",
              "      <th>apple_frame</th>\n",
              "      <th>aurora_borealis</th>\n",
              "      <th>barn</th>\n",
              "      <th>beach</th>\n",
              "      <th>boat</th>\n",
              "      <th>bridge</th>\n",
              "      <th>building</th>\n",
              "      <th>bushes</th>\n",
              "      <th>cabin</th>\n",
              "      <th>cactus</th>\n",
              "      <th>...</th>\n",
              "      <th>tomb_frame</th>\n",
              "      <th>tree</th>\n",
              "      <th>trees</th>\n",
              "      <th>triple_frame</th>\n",
              "      <th>waterfall</th>\n",
              "      <th>waves</th>\n",
              "      <th>windmill</th>\n",
              "      <th>window_frame</th>\n",
              "      <th>winter</th>\n",
              "      <th>wood_framed</th>\n",
              "    </tr>\n",
              "    <tr>\n",
              "      <th>episode</th>\n",
              "      <th></th>\n",
              "      <th></th>\n",
              "      <th></th>\n",
              "      <th></th>\n",
              "      <th></th>\n",
              "      <th></th>\n",
              "      <th></th>\n",
              "      <th></th>\n",
              "      <th></th>\n",
              "      <th></th>\n",
              "      <th></th>\n",
              "      <th></th>\n",
              "      <th></th>\n",
              "      <th></th>\n",
              "      <th></th>\n",
              "      <th></th>\n",
              "      <th></th>\n",
              "      <th></th>\n",
              "      <th></th>\n",
              "      <th></th>\n",
              "      <th></th>\n",
              "    </tr>\n",
              "  </thead>\n",
              "  <tbody>\n",
              "    <tr>\n",
              "      <th>s01e01</th>\n",
              "      <td>0</td>\n",
              "      <td>0</td>\n",
              "      <td>0</td>\n",
              "      <td>0</td>\n",
              "      <td>0</td>\n",
              "      <td>0</td>\n",
              "      <td>0</td>\n",
              "      <td>1</td>\n",
              "      <td>0</td>\n",
              "      <td>0</td>\n",
              "      <td>...</td>\n",
              "      <td>0</td>\n",
              "      <td>1</td>\n",
              "      <td>1</td>\n",
              "      <td>0</td>\n",
              "      <td>0</td>\n",
              "      <td>0</td>\n",
              "      <td>0</td>\n",
              "      <td>0</td>\n",
              "      <td>0</td>\n",
              "      <td>0</td>\n",
              "    </tr>\n",
              "    <tr>\n",
              "      <th>s01e02</th>\n",
              "      <td>0</td>\n",
              "      <td>0</td>\n",
              "      <td>0</td>\n",
              "      <td>0</td>\n",
              "      <td>0</td>\n",
              "      <td>0</td>\n",
              "      <td>0</td>\n",
              "      <td>0</td>\n",
              "      <td>1</td>\n",
              "      <td>0</td>\n",
              "      <td>...</td>\n",
              "      <td>0</td>\n",
              "      <td>1</td>\n",
              "      <td>1</td>\n",
              "      <td>0</td>\n",
              "      <td>0</td>\n",
              "      <td>0</td>\n",
              "      <td>0</td>\n",
              "      <td>0</td>\n",
              "      <td>1</td>\n",
              "      <td>0</td>\n",
              "    </tr>\n",
              "    <tr>\n",
              "      <th>s01e03</th>\n",
              "      <td>0</td>\n",
              "      <td>0</td>\n",
              "      <td>0</td>\n",
              "      <td>0</td>\n",
              "      <td>0</td>\n",
              "      <td>0</td>\n",
              "      <td>0</td>\n",
              "      <td>0</td>\n",
              "      <td>1</td>\n",
              "      <td>0</td>\n",
              "      <td>...</td>\n",
              "      <td>0</td>\n",
              "      <td>1</td>\n",
              "      <td>1</td>\n",
              "      <td>0</td>\n",
              "      <td>0</td>\n",
              "      <td>0</td>\n",
              "      <td>0</td>\n",
              "      <td>0</td>\n",
              "      <td>1</td>\n",
              "      <td>0</td>\n",
              "    </tr>\n",
              "    <tr>\n",
              "      <th>s01e04</th>\n",
              "      <td>0</td>\n",
              "      <td>0</td>\n",
              "      <td>0</td>\n",
              "      <td>0</td>\n",
              "      <td>0</td>\n",
              "      <td>0</td>\n",
              "      <td>0</td>\n",
              "      <td>1</td>\n",
              "      <td>0</td>\n",
              "      <td>0</td>\n",
              "      <td>...</td>\n",
              "      <td>0</td>\n",
              "      <td>1</td>\n",
              "      <td>1</td>\n",
              "      <td>0</td>\n",
              "      <td>0</td>\n",
              "      <td>0</td>\n",
              "      <td>0</td>\n",
              "      <td>0</td>\n",
              "      <td>0</td>\n",
              "      <td>0</td>\n",
              "    </tr>\n",
              "    <tr>\n",
              "      <th>s01e05</th>\n",
              "      <td>0</td>\n",
              "      <td>0</td>\n",
              "      <td>0</td>\n",
              "      <td>0</td>\n",
              "      <td>0</td>\n",
              "      <td>0</td>\n",
              "      <td>0</td>\n",
              "      <td>0</td>\n",
              "      <td>0</td>\n",
              "      <td>0</td>\n",
              "      <td>...</td>\n",
              "      <td>0</td>\n",
              "      <td>1</td>\n",
              "      <td>1</td>\n",
              "      <td>0</td>\n",
              "      <td>0</td>\n",
              "      <td>0</td>\n",
              "      <td>0</td>\n",
              "      <td>0</td>\n",
              "      <td>0</td>\n",
              "      <td>0</td>\n",
              "    </tr>\n",
              "  </tbody>\n",
              "</table>\n",
              "<p>5 rows × 67 columns</p>\n",
              "</div>\n",
              "      <button class=\"colab-df-convert\" onclick=\"convertToInteractive('df-7da3ecdb-3f26-407a-970b-27e7231f1d88')\"\n",
              "              title=\"Convert this dataframe to an interactive table.\"\n",
              "              style=\"display:none;\">\n",
              "        \n",
              "  <svg xmlns=\"http://www.w3.org/2000/svg\" height=\"24px\"viewBox=\"0 0 24 24\"\n",
              "       width=\"24px\">\n",
              "    <path d=\"M0 0h24v24H0V0z\" fill=\"none\"/>\n",
              "    <path d=\"M18.56 5.44l.94 2.06.94-2.06 2.06-.94-2.06-.94-.94-2.06-.94 2.06-2.06.94zm-11 1L8.5 8.5l.94-2.06 2.06-.94-2.06-.94L8.5 2.5l-.94 2.06-2.06.94zm10 10l.94 2.06.94-2.06 2.06-.94-2.06-.94-.94-2.06-.94 2.06-2.06.94z\"/><path d=\"M17.41 7.96l-1.37-1.37c-.4-.4-.92-.59-1.43-.59-.52 0-1.04.2-1.43.59L10.3 9.45l-7.72 7.72c-.78.78-.78 2.05 0 2.83L4 21.41c.39.39.9.59 1.41.59.51 0 1.02-.2 1.41-.59l7.78-7.78 2.81-2.81c.8-.78.8-2.07 0-2.86zM5.41 20L4 18.59l7.72-7.72 1.47 1.35L5.41 20z\"/>\n",
              "  </svg>\n",
              "      </button>\n",
              "      \n",
              "  <style>\n",
              "    .colab-df-container {\n",
              "      display:flex;\n",
              "      flex-wrap:wrap;\n",
              "      gap: 12px;\n",
              "    }\n",
              "\n",
              "    .colab-df-convert {\n",
              "      background-color: #E8F0FE;\n",
              "      border: none;\n",
              "      border-radius: 50%;\n",
              "      cursor: pointer;\n",
              "      display: none;\n",
              "      fill: #1967D2;\n",
              "      height: 32px;\n",
              "      padding: 0 0 0 0;\n",
              "      width: 32px;\n",
              "    }\n",
              "\n",
              "    .colab-df-convert:hover {\n",
              "      background-color: #E2EBFA;\n",
              "      box-shadow: 0px 1px 2px rgba(60, 64, 67, 0.3), 0px 1px 3px 1px rgba(60, 64, 67, 0.15);\n",
              "      fill: #174EA6;\n",
              "    }\n",
              "\n",
              "    [theme=dark] .colab-df-convert {\n",
              "      background-color: #3B4455;\n",
              "      fill: #D2E3FC;\n",
              "    }\n",
              "\n",
              "    [theme=dark] .colab-df-convert:hover {\n",
              "      background-color: #434B5C;\n",
              "      box-shadow: 0px 1px 3px 1px rgba(0, 0, 0, 0.15);\n",
              "      filter: drop-shadow(0px 1px 2px rgba(0, 0, 0, 0.3));\n",
              "      fill: #FFFFFF;\n",
              "    }\n",
              "  </style>\n",
              "\n",
              "      <script>\n",
              "        const buttonEl =\n",
              "          document.querySelector('#df-7da3ecdb-3f26-407a-970b-27e7231f1d88 button.colab-df-convert');\n",
              "        buttonEl.style.display =\n",
              "          google.colab.kernel.accessAllowed ? 'block' : 'none';\n",
              "\n",
              "        async function convertToInteractive(key) {\n",
              "          const element = document.querySelector('#df-7da3ecdb-3f26-407a-970b-27e7231f1d88');\n",
              "          const dataTable =\n",
              "            await google.colab.kernel.invokeFunction('convertToInteractive',\n",
              "                                                     [key], {});\n",
              "          if (!dataTable) return;\n",
              "\n",
              "          const docLinkHtml = 'Like what you see? Visit the ' +\n",
              "            '<a target=\"_blank\" href=https://colab.research.google.com/notebooks/data_table.ipynb>data table notebook</a>'\n",
              "            + ' to learn more about interactive tables.';\n",
              "          element.innerHTML = '';\n",
              "          dataTable['output_type'] = 'display_data';\n",
              "          await google.colab.output.renderOutput(dataTable, element);\n",
              "          const docLink = document.createElement('div');\n",
              "          docLink.innerHTML = docLinkHtml;\n",
              "          element.appendChild(docLink);\n",
              "        }\n",
              "      </script>\n",
              "    </div>\n",
              "  </div>\n",
              "  "
            ]
          },
          "metadata": {},
          "execution_count": 1
        }
      ]
    },
    {
      "cell_type": "markdown",
      "source": [
        "The dataset contains 403 rows representing the episodes of the show and 67 binary columns representing what was drawn on the painting at each episode"
      ],
      "metadata": {
        "id": "Bk_Y3dmamX70"
      }
    },
    {
      "cell_type": "code",
      "source": [
        "top_attributes = df.mean(0).sort_values(ascending=False).head(5)\n",
        "\n",
        "import matplotlib.pyplot as plt\n",
        "import seaborn as sns\n",
        "sns.barplot(x=top_attributes.values, y=top_attributes.index, palette='Blues_r')\n",
        "for m_i, support in enumerate(top_attributes):\n",
        "  plt.text(support-0.1, m_i, f\"{support:.1%}\", ha='right',)\n",
        "plt.title('Top 5 of the most frequent attributes')\n",
        "plt.xlim(0, 1)\n",
        "plt.show()"
      ],
      "metadata": {
        "colab": {
          "base_uri": "https://localhost:8080/",
          "height": 452
        },
        "id": "yNYBVy9Nmwf5",
        "outputId": "651d48da-4594-4970-e1ef-efe19370047e"
      },
      "execution_count": 2,
      "outputs": [
        {
          "output_type": "display_data",
          "data": {
            "text/plain": [
              "<Figure size 640x480 with 1 Axes>"
            ],
            "image/png": "[encoded data removed]"
          },
          "metadata": {}
        }
      ]
    },
    {
      "cell_type": "markdown",
      "source": [
        "Let us install `caspailleur` package"
      ],
      "metadata": {
        "id": "jWeBcxWF1Mqh"
      }
    },
    {
      "cell_type": "code",
      "source": [
        "!pip install caspailleur --quiet"
      ],
      "metadata": {
        "id": "zWuvYGRGp_vA",
        "colab": {
          "base_uri": "https://localhost:8080/"
        },
        "outputId": "43bd16f3-067c-473d-8017-6434bf180b45"
      },
      "execution_count": 3,
      "outputs": [
        {
          "output_type": "stream",
          "name": "stdout",
          "text": [
            "\u001b[2K     \u001b[90m━━━━━━━━━━━━━━━━━━━━━━━━━━━━━━━━━━━━━━━━\u001b[0m \u001b[32m42.7/42.7 kB\u001b[0m \u001b[31m2.4 MB/s\u001b[0m eta \u001b[36m0:00:00\u001b[0m\n",
            "\u001b[2K     \u001b[90m━━━━━━━━━━━━━━━━━━━━━━━━━━━━━━━━━━━━━━━\u001b[0m \u001b[32m118.8/118.8 kB\u001b[0m \u001b[31m5.8 MB/s\u001b[0m eta \u001b[36m0:00:00\u001b[0m\n",
            "\u001b[2K     \u001b[90m━━━━━━━━━━━━━━━━━━━━━━━━━━━━━━━━━━━━━━\u001b[0m \u001b[32m273.8/273.8 kB\u001b[0m \u001b[31m14.2 MB/s\u001b[0m eta \u001b[36m0:00:00\u001b[0m\n",
            "\u001b[2K     \u001b[90m━━━━━━━━━━━━━━━━━━━━━━━━━━━━━━━━━━━━━━━━\u001b[0m \u001b[32m1.4/1.4 MB\u001b[0m \u001b[31m25.9 MB/s\u001b[0m eta \u001b[36m0:00:00\u001b[0m\n",
            "\u001b[?25h  Preparing metadata (setup.py) ... \u001b[?25l\u001b[?25hdone\n",
            "  Building wheel for wget (setup.py) ... \u001b[?25l\u001b[?25hdone\n"
          ]
        }
      ]
    },
    {
      "cell_type": "code",
      "source": [
        "import caspailleur as csp\n",
        "csp.__version__"
      ],
      "metadata": {
        "id": "80kwA5xRmuwT",
        "colab": {
          "base_uri": "https://localhost:8080/",
          "height": 35
        },
        "outputId": "84939edc-4089-4250-e15b-840aba81ee5d"
      },
      "execution_count": 4,
      "outputs": [
        {
          "output_type": "execute_result",
          "data": {
            "text/plain": [
              "'0.1.2'"
            ],
            "application/vnd.google.colaboratory.intrinsic+json": {
              "type": "string"
            }
          },
          "metadata": {},
          "execution_count": 4
        }
      ]
    },
    {
      "cell_type": "markdown",
      "source": [
        "The function `explore_data(...)` allows computing all characteristic attribute sets at once and obtain the result in a human-readable manner."
      ],
      "metadata": {
        "id": "sQFvojPi1dSu"
      }
    },
    {
      "cell_type": "code",
      "source": [
        "%%time\n",
        "csp_data = csp.explore_data(df.values.astype(bool), min_sup=0.1)"
      ],
      "metadata": {
        "colab": {
          "base_uri": "https://localhost:8080/"
        },
        "id": "IThJ4vlfrxaw",
        "outputId": "be0dd3a5-a88a-4ac8-9a9a-186fde376700"
      },
      "execution_count": null,
      "outputs": [
        {
          "output_type": "stream",
          "name": "stdout",
          "text": [
            "CPU times: user 17 s, sys: 74.8 ms, total: 17.1 s\n",
            "Wall time: 49.9 s\n"
          ]
        }
      ]
    },
    {
      "cell_type": "code",
      "source": [
        "print(type(csp_data))\n",
        "list(csp_data)"
      ],
      "metadata": {
        "colab": {
          "base_uri": "https://localhost:8080/"
        },
        "id": "B4vLO5DAsvaF",
        "outputId": "fece1b1b-4997-41a2-acc0-9daca08e6743"
      },
      "execution_count": null,
      "outputs": [
        {
          "output_type": "stream",
          "name": "stdout",
          "text": [
            "<class 'dict'>\n"
          ]
        },
        {
          "output_type": "execute_result",
          "data": {
            "text/plain": [
              "['intents',\n",
              " 'keys',\n",
              " 'passkeys',\n",
              " 'pseudo_intents',\n",
              " 'proper_premises',\n",
              " 'intents_ordering',\n",
              " 'linearity',\n",
              " 'distributivity']"
            ]
          },
          "metadata": {},
          "execution_count": 6
        }
      ]
    },
    {
      "cell_type": "code",
      "source": [
        "print(type(csp_data['intents']), len(csp_data['intents']))\n",
        "csp_data['intents'][100]"
      ],
      "metadata": {
        "colab": {
          "base_uri": "https://localhost:8080/"
        },
        "id": "tq0k2PFks5xX",
        "outputId": "f3d800da-3078-453e-845c-1a940a03ec80"
      },
      "execution_count": null,
      "outputs": [
        {
          "output_type": "stream",
          "name": "stdout",
          "text": [
            "<class 'list'> 195\n"
          ]
        },
        {
          "output_type": "execute_result",
          "data": {
            "text/plain": [
              "frozenset({51, 58, 59})"
            ]
          },
          "metadata": {},
          "execution_count": 7
        }
      ]
    },
    {
      "cell_type": "code",
      "source": [
        "print(type(csp_data['keys']), len(csp_data['keys']))\n",
        "{key for key, intent_i in csp_data['keys'].items() if intent_i == 100}"
      ],
      "metadata": {
        "colab": {
          "base_uri": "https://localhost:8080/"
        },
        "id": "j0G2aPz4tHh7",
        "outputId": "80f6198b-9c43-40e9-afc4-f1934055949c"
      },
      "execution_count": null,
      "outputs": [
        {
          "output_type": "stream",
          "name": "stdout",
          "text": [
            "<class 'dict'> 410\n"
          ]
        },
        {
          "output_type": "execute_result",
          "data": {
            "text/plain": [
              "{frozenset({51, 59})}"
            ]
          },
          "metadata": {},
          "execution_count": 8
        }
      ]
    },
    {
      "cell_type": "code",
      "source": [
        "print(','.join(df.columns[[51, 59]]), '=>', df.columns[58])"
      ],
      "metadata": {
        "colab": {
          "base_uri": "https://localhost:8080/"
        },
        "id": "uTVDd4XptxWf",
        "outputId": "db0b6c22-0550-409c-e491-d22f967863ac"
      },
      "execution_count": null,
      "outputs": [
        {
          "output_type": "stream",
          "name": "stdout",
          "text": [
            "snow,trees => tree\n"
          ]
        }
      ]
    },
    {
      "cell_type": "markdown",
      "source": [
        "## All attribute sets, step by step"
      ],
      "metadata": {
        "id": "m9UITlZ4uN3a"
      }
    },
    {
      "cell_type": "markdown",
      "source": [
        "### intents"
      ],
      "metadata": {
        "id": "VVhDpXtuuUgr"
      }
    },
    {
      "cell_type": "markdown",
      "source": [
        "Almost everything inside `caspailleur` is processed via `frozenbitarray`s that are tuple of 1s and 0s.\n",
        "\n",
        "Here we define a function to convert subset of attributes, represented with `frozenbitarray` in a human readable descriptions."
      ],
      "metadata": {
        "id": "typj0GkK12Sm"
      }
    },
    {
      "cell_type": "code",
      "source": [
        "def verbose(barray: 'frozenbitarray', names=df.columns):\n",
        "  return ','.join(names[list(barray.itersearch(True))])"
      ],
      "metadata": {
        "id": "ZvWGgP1yesNe"
      },
      "execution_count": 6,
      "outputs": []
    },
    {
      "cell_type": "code",
      "source": [
        "%%time\n",
        "itemsets_ba = csp.np2bas(df.values)\n",
        "intents = csp.list_intents_via_LCM(itemsets_ba, min_supp=1)\n",
        "print(len(intents))"
      ],
      "metadata": {
        "colab": {
          "base_uri": "https://localhost:8080/"
        },
        "id": "mZLa8Ixcz24R",
        "outputId": "13c610b6-15f3-48db-9af4-495eefce9a4f"
      },
      "execution_count": 7,
      "outputs": [
        {
          "output_type": "stream",
          "name": "stdout",
          "text": [
            "3463\n",
            "CPU times: user 1.02 s, sys: 0 ns, total: 1.02 s\n",
            "Wall time: 1.45 s\n"
          ]
        }
      ]
    },
    {
      "cell_type": "code",
      "source": [
        "intent = intents[3075]\n",
        "intent"
      ],
      "metadata": {
        "colab": {
          "base_uri": "https://localhost:8080/"
        },
        "id": "O-PbM8Sr06Q-",
        "outputId": "f19d7727-4836-40dd-a976-91cabbe5350f"
      },
      "execution_count": 8,
      "outputs": [
        {
          "output_type": "execute_result",
          "data": {
            "text/plain": [
              "frozenbitarray('0000000000000000100000000011000010000100000000000000100000100000001')"
            ]
          },
          "metadata": {},
          "execution_count": 8
        }
      ]
    },
    {
      "cell_type": "markdown",
      "source": [
        "Function `.itersearch(True)` gives the indices of 1s in the bitarray. Function `.find(True)` gives the index of the first 1 in the bitarray."
      ],
      "metadata": {
        "id": "qc9YrueF2dBS"
      }
    },
    {
      "cell_type": "code",
      "source": [
        "list(intent.itersearch(True)), intent.find(True)"
      ],
      "metadata": {
        "colab": {
          "base_uri": "https://localhost:8080/"
        },
        "id": "lO3imd3j0GDz",
        "outputId": "1f6f29aa-5663-4305-e168-efb8f5bfb690"
      },
      "execution_count": 10,
      "outputs": [
        {
          "output_type": "execute_result",
          "data": {
            "text/plain": [
              "([16, 26, 27, 32, 37, 52, 58, 66], 16)"
            ]
          },
          "metadata": {},
          "execution_count": 10
        }
      ]
    },
    {
      "cell_type": "code",
      "source": [
        "verbose(intent)"
      ],
      "metadata": {
        "colab": {
          "base_uri": "https://localhost:8080/",
          "height": 35
        },
        "id": "Wfhtq_6yfQxU",
        "outputId": "ffae0d23-fae2-42fc-9687-55447e75fcdf"
      },
      "execution_count": 11,
      "outputs": [
        {
          "output_type": "execute_result",
          "data": {
            "text/plain": [
              "'deciduous,framed,grass,lake,mountain,snowy_mountain,tree,wood_framed'"
            ],
            "application/vnd.google.colaboratory.intrinsic+json": {
              "type": "string"
            }
          },
          "metadata": {},
          "execution_count": 11
        }
      ]
    },
    {
      "cell_type": "markdown",
      "source": [
        "### keys"
      ],
      "metadata": {
        "id": "35mVpv-hufAd"
      }
    },
    {
      "cell_type": "markdown",
      "source": [
        "IMPORTANT. The set of intents, passed to `csp.list_keys()` should contain all (frequent) intents of the dataset."
      ],
      "metadata": {
        "id": "FCFypCTu3aCj"
      }
    },
    {
      "cell_type": "code",
      "source": [
        "%%time\n",
        "keys_dict = csp.list_keys(intents)\n",
        "print(len(keys_dict))"
      ],
      "metadata": {
        "colab": {
          "base_uri": "https://localhost:8080/"
        },
        "id": "KI_nV6_g0to9",
        "outputId": "0facd5af-a0c3-411a-a3aa-5697524c9a05"
      },
      "execution_count": 12,
      "outputs": [
        {
          "output_type": "stream",
          "name": "stdout",
          "text": [
            "10253\n",
            "CPU times: user 527 ms, sys: 5.95 ms, total: 533 ms\n",
            "Wall time: 537 ms\n"
          ]
        }
      ]
    },
    {
      "cell_type": "markdown",
      "source": [
        "Thanks to bitarrays, the set of 10 thousand keys requires only 91K of memory for storing."
      ],
      "metadata": {
        "id": "qiRtRePN2wJh"
      }
    },
    {
      "cell_type": "code",
      "source": [
        "with open('keys_list.bal', 'wb') as file:\n",
        "  csp.base_functions.save_balist(file, list(keys_dict))\n",
        "\n",
        "!ls -lh keys_list.bal"
      ],
      "metadata": {
        "colab": {
          "base_uri": "https://localhost:8080/"
        },
        "id": "CJqwDp5F1Y8S",
        "outputId": "d2e69358-7c5b-4276-feb4-37928e4f9db8"
      },
      "execution_count": 14,
      "outputs": [
        {
          "output_type": "stream",
          "name": "stdout",
          "text": [
            "-rw-r--r-- 1 root root 91K Jun 21 12:09 keys_list.bal\n"
          ]
        }
      ]
    },
    {
      "cell_type": "code",
      "source": [
        "with open('keys_list.bal', 'rb') as file:\n",
        "  assert list(keys_dict) == list(csp.base_functions.load_balist(file))"
      ],
      "metadata": {
        "id": "pXnVvSbVqAlT"
      },
      "execution_count": 15,
      "outputs": []
    },
    {
      "cell_type": "markdown",
      "source": [
        "Let us study the keys of the previously selected intent"
      ],
      "metadata": {
        "id": "W24sBauE3BLI"
      }
    },
    {
      "cell_type": "code",
      "source": [
        "keys_per_intent = [key for key, intent_i in keys_dict.items() if intents[intent_i]==intent]\n",
        "[verbose(key) for key in keys_per_intent]"
      ],
      "metadata": {
        "colab": {
          "base_uri": "https://localhost:8080/"
        },
        "id": "HqQxNLRn1q3E",
        "outputId": "aa26f7a2-8d31-43f3-9617-eda6b543f7f2"
      },
      "execution_count": 16,
      "outputs": [
        {
          "output_type": "execute_result",
          "data": {
            "text/plain": [
              "['wood_framed', 'deciduous,framed,grass,lake,snowy_mountain']"
            ]
          },
          "metadata": {},
          "execution_count": 16
        }
      ]
    },
    {
      "cell_type": "code",
      "source": [
        "for key in keys_per_intent:\n",
        "  print(f\"{verbose(key)} => {verbose(intent)}\")"
      ],
      "metadata": {
        "colab": {
          "base_uri": "https://localhost:8080/"
        },
        "id": "dEMPmKk72izo",
        "outputId": "602ca01b-4bac-420a-c9e6-1ee4f025f829"
      },
      "execution_count": 17,
      "outputs": [
        {
          "output_type": "stream",
          "name": "stdout",
          "text": [
            "wood_framed => deciduous,framed,grass,lake,mountain,snowy_mountain,tree,wood_framed\n",
            "deciduous,framed,grass,lake,snowy_mountain => deciduous,framed,grass,lake,mountain,snowy_mountain,tree,wood_framed\n"
          ]
        }
      ]
    },
    {
      "cell_type": "code",
      "source": [
        "for key in keys_per_intent:\n",
        "  print(f\"{verbose(key)} => {verbose(intent&~key)}\")"
      ],
      "metadata": {
        "colab": {
          "base_uri": "https://localhost:8080/"
        },
        "id": "qWIwWDCH3ECw",
        "outputId": "db650617-5fa7-4cff-9eee-f00d6f8642c9"
      },
      "execution_count": 18,
      "outputs": [
        {
          "output_type": "stream",
          "name": "stdout",
          "text": [
            "wood_framed => deciduous,framed,grass,lake,mountain,snowy_mountain,tree\n",
            "deciduous,framed,grass,lake,snowy_mountain => mountain,tree,wood_framed\n"
          ]
        }
      ]
    },
    {
      "cell_type": "markdown",
      "source": [
        "Function `csp.list_keys(intents)` outputs the keys for all the `intents` in the lattice. However, if one needs the keys for only a few intents, these keys can be found via equivalence class of the intent."
      ],
      "metadata": {
        "id": "8r2tJIjS3MZi"
      }
    },
    {
      "cell_type": "code",
      "source": [
        "%%time\n",
        "attribute_extents = csp.np2bas(df.values.T)"
      ],
      "metadata": {
        "colab": {
          "base_uri": "https://localhost:8080/"
        },
        "id": "2lLu32b6J187",
        "outputId": "4f89b02a-4b5d-4699-c870-74ca45944c6f"
      },
      "execution_count": 19,
      "outputs": [
        {
          "output_type": "stream",
          "name": "stdout",
          "text": [
            "CPU times: user 1.29 ms, sys: 0 ns, total: 1.29 ms\n",
            "Wall time: 1.3 ms\n"
          ]
        }
      ]
    },
    {
      "cell_type": "code",
      "source": [
        "%%time\n",
        "equiv_class = csp.mine_equivalence_classes.iter_equivalence_class(attribute_extents, intents[1000])\n",
        "keys_per_single_intent = csp.mine_equivalence_classes.list_keys_via_eqclass(equiv_class)\n",
        "print(keys_per_single_intent)"
      ],
      "metadata": {
        "colab": {
          "base_uri": "https://localhost:8080/"
        },
        "id": "4XNARrouIkUq",
        "outputId": "662a925d-2ab5-4dd3-e78a-4c4f84566dda"
      },
      "execution_count": 21,
      "outputs": [
        {
          "output_type": "stream",
          "name": "stdout",
          "text": [
            "[frozenbitarray('0000000000000101100000000000000000000000000000000000000010000000000'), frozenbitarray('0000000000000101000000000000000000000000000000000000000010100000000')]\n",
            "CPU times: user 683 µs, sys: 0 ns, total: 683 µs\n",
            "Wall time: 634 µs\n"
          ]
        }
      ]
    },
    {
      "cell_type": "code",
      "source": [
        "%%time\n",
        "equiv_class = csp.mine_equivalence_classes.iter_equivalence_class(attribute_extents, intent)\n",
        "keys_per_single_intent = csp.mine_equivalence_classes.list_keys_via_eqclass(equiv_class)\n",
        "print(keys_per_single_intent)"
      ],
      "metadata": {
        "colab": {
          "base_uri": "https://localhost:8080/"
        },
        "id": "i5g3lu3kJyaH",
        "outputId": "84d89334-cff6-4fcb-f0f6-de80e658466e"
      },
      "execution_count": 22,
      "outputs": [
        {
          "output_type": "stream",
          "name": "stdout",
          "text": [
            "[frozenbitarray('0000000000000000100000000011000010000000000000000000100000000000000'), frozenbitarray('0000000000000000000000000000000000000000000000000000000000000000001')]\n",
            "CPU times: user 3.63 ms, sys: 0 ns, total: 3.63 ms\n",
            "Wall time: 5.05 ms\n"
          ]
        }
      ]
    },
    {
      "cell_type": "code",
      "source": [
        "set(keys_per_intent) == set(keys_per_single_intent)"
      ],
      "metadata": {
        "colab": {
          "base_uri": "https://localhost:8080/"
        },
        "id": "iWBQ8nNLgQMy",
        "outputId": "8426f604-1dc3-4117-bc4b-d779aa0db9c9"
      },
      "execution_count": 24,
      "outputs": [
        {
          "output_type": "execute_result",
          "data": {
            "text/plain": [
              "True"
            ]
          },
          "metadata": {},
          "execution_count": 24
        }
      ]
    },
    {
      "cell_type": "markdown",
      "source": [
        "### passkeys"
      ],
      "metadata": {
        "id": "ed3NddRZuhG-"
      }
    },
    {
      "cell_type": "code",
      "source": [
        "%%time\n",
        "passkeys_dict = csp.list_passkeys(intents)\n",
        "print(len(passkeys_dict))"
      ],
      "metadata": {
        "colab": {
          "base_uri": "https://localhost:8080/"
        },
        "id": "C9GPHhzx5tb4",
        "outputId": "42a5cb1e-6ad0-4bac-ec02-95cdd278be01"
      },
      "execution_count": 25,
      "outputs": [
        {
          "output_type": "stream",
          "name": "stdout",
          "text": [
            "4854\n",
            "CPU times: user 450 ms, sys: 1.73 ms, total: 452 ms\n",
            "Wall time: 456 ms\n"
          ]
        }
      ]
    },
    {
      "cell_type": "code",
      "source": [
        "pkeys_per_intent = [pkey for pkey, intent_i in passkeys_dict.items() if intents[intent_i]==intent]\n",
        "[verbose(pkey) for pkey in pkeys_per_intent]"
      ],
      "metadata": {
        "colab": {
          "base_uri": "https://localhost:8080/"
        },
        "id": "-R6s1D0I5zuP",
        "outputId": "01162d3a-e883-43fb-d45f-8ef3a11c12a7"
      },
      "execution_count": 26,
      "outputs": [
        {
          "output_type": "execute_result",
          "data": {
            "text/plain": [
              "['wood_framed']"
            ]
          },
          "metadata": {},
          "execution_count": 26
        }
      ]
    },
    {
      "cell_type": "markdown",
      "source": [
        "## Proper premises"
      ],
      "metadata": {
        "id": "eZx-ODzFgcWF"
      }
    },
    {
      "cell_type": "code",
      "source": [
        "%%time\n",
        "proper_premises = list(csp.iter_proper_premises_via_keys(intents, keys_dict))\n",
        "print(len(proper_premises))"
      ],
      "metadata": {
        "colab": {
          "base_uri": "https://localhost:8080/"
        },
        "id": "ll19QYz5-7wa",
        "outputId": "450430e7-9a82-4158-ee9a-97d9d921ecb3"
      },
      "execution_count": 27,
      "outputs": [
        {
          "output_type": "stream",
          "name": "stdout",
          "text": [
            "7040\n",
            "CPU times: user 69.1 ms, sys: 0 ns, total: 69.1 ms\n",
            "Wall time: 73.3 ms\n"
          ]
        }
      ]
    },
    {
      "cell_type": "markdown",
      "source": [
        "There are 7040 proper premises in the data. So let us compute the proper premises for only the frequent intents."
      ],
      "metadata": {
        "id": "ah3WeGBf4aR5"
      }
    },
    {
      "cell_type": "code",
      "source": [
        "attribute_extents_sets = list(csp.base_functions.bas2isets(attribute_extents))\n",
        "extents = [csp.base_functions.extension(intent.itersearch(True), attribute_extents_sets) for intent in intents]\n",
        "supports = [len(extent) for extent in extents]"
      ],
      "metadata": {
        "id": "7NvwIy5urCCq"
      },
      "execution_count": 29,
      "outputs": []
    },
    {
      "cell_type": "code",
      "source": [
        "import numpy as np\n",
        "\n",
        "support_thold = int(0.05*supports[0])\n",
        "intents_freq_idxs = list((np.array(supports)>=support_thold).nonzero()[0])\n",
        "support_thold, len(intents_freq_idxs)"
      ],
      "metadata": {
        "colab": {
          "base_uri": "https://localhost:8080/"
        },
        "id": "AxEYLOF9BD-i",
        "outputId": "2766bdbc-c6f2-482c-e329-c396207b0626"
      },
      "execution_count": 30,
      "outputs": [
        {
          "output_type": "execute_result",
          "data": {
            "text/plain": [
              "(20, 571)"
            ]
          },
          "metadata": {},
          "execution_count": 30
        }
      ]
    },
    {
      "cell_type": "code",
      "source": [
        "intents_freq = [intents[intent_i] for intent_i in intents_freq_idxs]\n",
        "keys_dict_freq = {\n",
        "    key: intents_freq_idxs.index(intent_i)\n",
        "    for key, intent_i in keys_dict.items()\n",
        "    if intent_i in set(intents_freq_idxs)\n",
        "}"
      ],
      "metadata": {
        "id": "dlfrQwqt_ySa"
      },
      "execution_count": 32,
      "outputs": []
    },
    {
      "cell_type": "code",
      "source": [
        "%%time\n",
        "proper_premises_freq = list(csp.iter_proper_premises_via_keys(intents_freq, keys_dict_freq))\n",
        "print(len(proper_premises_freq))"
      ],
      "metadata": {
        "colab": {
          "base_uri": "https://localhost:8080/"
        },
        "id": "m2xFssepAIkC",
        "outputId": "0672cd37-52cc-447e-b414-384bdbc6fc2e"
      },
      "execution_count": 33,
      "outputs": [
        {
          "output_type": "stream",
          "name": "stdout",
          "text": [
            "55\n",
            "CPU times: user 4.63 ms, sys: 0 ns, total: 4.63 ms\n",
            "Wall time: 4.74 ms\n"
          ]
        }
      ]
    },
    {
      "cell_type": "code",
      "source": [
        "print(type(proper_premises_freq), len(proper_premises_freq))\n",
        "proper_premises_freq[0]"
      ],
      "metadata": {
        "colab": {
          "base_uri": "https://localhost:8080/"
        },
        "id": "xQNiD7LPBzjJ",
        "outputId": "95ce63a0-3e76-4a93-e5a2-b5818c5b2b1d"
      },
      "execution_count": 34,
      "outputs": [
        {
          "output_type": "stream",
          "name": "stdout",
          "text": [
            "<class 'list'> 55\n"
          ]
        },
        {
          "output_type": "execute_result",
          "data": {
            "text/plain": [
              "(frozenbitarray('0001000000000000000000000000000000000000000000000000000000000000000'),\n",
              " 17)"
            ]
          },
          "metadata": {},
          "execution_count": 34
        }
      ]
    },
    {
      "cell_type": "code",
      "source": [
        "for ppremise, intent_i in proper_premises_freq:\n",
        "  print(f\"{verbose(ppremise)} => {verbose(intents_freq[intent_i]&~ppremise)}\")"
      ],
      "metadata": {
        "colab": {
          "base_uri": "https://localhost:8080/"
        },
        "id": "3ICs-O53CZHW",
        "outputId": "d1cd10b7-73d1-40be-aeb0-3bd45b001078"
      },
      "execution_count": 35,
      "outputs": [
        {
          "output_type": "stream",
          "name": "stdout",
          "text": [
            "beach => ocean\n",
            "bushes => tree\n",
            "cabin => tree\n",
            "conifer => tree\n",
            "deciduous => tree\n",
            "fog => tree\n",
            "oval_frame => framed\n",
            "river => tree\n",
            "snow => tree\n",
            "snowy_mountain => mountain\n",
            "trees => tree\n",
            "waterfall => tree\n",
            "waves => ocean\n",
            "winter => tree\n",
            "bushes,conifer => tree,trees\n",
            "cabin,mountain => tree,trees\n",
            "clouds,mountains => mountain\n",
            "conifer,deciduous => tree,trees\n",
            "conifer,framed => tree,trees\n",
            "cumulus,mountains => clouds,mountain,tree\n",
            "cumulus,river => clouds,tree,trees\n",
            "deciduous,mountains => mountain,tree\n",
            "deciduous,winter => snow,tree\n",
            "grass,mountains => mountain,tree\n",
            "grass,path => tree\n",
            "grass,structure => tree\n",
            "lake,mountains => tree\n",
            "lake,structure => tree\n",
            "mountain,structure => cabin,tree,trees\n",
            "mountains,river => mountain,tree\n",
            "mountains,snowy_mountain => mountain,tree\n",
            "ocean,rocks => waves\n",
            "path,structure => tree\n",
            "bushes,clouds,lake => tree,trees\n",
            "bushes,clouds,mountains => mountain,tree,trees\n",
            "bushes,clouds,river => tree,trees\n",
            "bushes,grass,mountain => tree,trees\n",
            "bushes,mountain,river => tree,trees\n",
            "cabin,conifer,lake => tree,trees\n",
            "clouds,conifer,river => tree,trees\n",
            "clouds,conifer,snowy_mountain => mountain,tree,trees\n",
            "clouds,conifer,structure => cabin,tree\n",
            "clouds,deciduous,grass => tree,trees\n",
            "clouds,grass,river => tree,trees\n",
            "conifer,cumulus,snowy_mountain => mountain,tree,trees\n",
            "conifer,lake,structure => cabin,tree,trees\n",
            "conifer,mountain,snow => tree,trees\n",
            "conifer,mountain,winter => tree,trees\n",
            "conifer,mountains,river => mountain,tree,trees\n",
            "conifer,mountains,snowy_mountain => mountain,tree,trees\n",
            "conifer,snow,snowy_mountain => mountain,tree,trees\n",
            "conifer,snowy_mountain,winter => mountain,tree,trees\n",
            "deciduous,grass,rocks => tree,trees\n",
            "bushes,mountains,snowy_mountain,trees => conifer,mountain,tree\n",
            "clouds,mountains,snowy_mountain,trees => conifer,mountain,tree\n"
          ]
        }
      ]
    },
    {
      "cell_type": "markdown",
      "source": [
        "Note that there is an implication _clouds,mountains => mountain_. And there is no implication _mountains => mountain_. That seems strange.\n"
      ],
      "metadata": {
        "id": "kDBFf5WB4rDc"
      }
    },
    {
      "cell_type": "code",
      "source": [
        "s = df['mountains']<=df['mountain']\n",
        "s[s==False]"
      ],
      "metadata": {
        "colab": {
          "base_uri": "https://localhost:8080/"
        },
        "id": "Xin57IYiCviW",
        "outputId": "c1fe2021-3d6e-4f12-faa5-510c897fc7fd"
      },
      "execution_count": 38,
      "outputs": [
        {
          "output_type": "execute_result",
          "data": {
            "text/plain": [
              "episode\n",
              "s29e02    False\n",
              "dtype: bool"
            ]
          },
          "metadata": {},
          "execution_count": 38
        }
      ]
    },
    {
      "cell_type": "code",
      "source": [
        "df.loc['s29e02', ['mountain', 'mountains',]]"
      ],
      "metadata": {
        "colab": {
          "base_uri": "https://localhost:8080/"
        },
        "id": "FQ-GCH8IC82T",
        "outputId": "61e3295c-a0ca-4b70-c9fa-5c8ac7066d02"
      },
      "execution_count": 39,
      "outputs": [
        {
          "output_type": "execute_result",
          "data": {
            "text/plain": [
              "mountain     0\n",
              "mountains    1\n",
              "Name: s29e02, dtype: int64"
            ]
          },
          "metadata": {},
          "execution_count": 39
        }
      ]
    },
    {
      "cell_type": "markdown",
      "source": [
        "Maybe, \"mountain\" implies that the mountain should be at the front of the picture? [Bob Ross season 29 episode 2 on Youtube](https://youtu.be/2XnIdinwot0?t=1374)"
      ],
      "metadata": {
        "id": "m2-JsxI3D9KY"
      }
    },
    {
      "cell_type": "markdown",
      "source": [
        "### pseudo_intents"
      ],
      "metadata": {
        "id": "RUfRFG5SuiIz"
      }
    },
    {
      "cell_type": "markdown",
      "source": [
        "Pseudo-intents are defined in a recursive way. Thus, the more pseudo-intents we find, the longer it takes to find the next pseudo-intent."
      ],
      "metadata": {
        "id": "Mm62v9SB5Ejl"
      }
    },
    {
      "cell_type": "code",
      "source": [
        "%%time\n",
        "#pseudo_intents = csp.list_pseudo_intents_via_keys(\n",
        "#    keys_intent_map=keys_dict.items(), intents=intents,\n",
        "#    use_tqdm=True, n_keys=len(keys_dict)\n",
        "#)"
      ],
      "metadata": {
        "colab": {
          "base_uri": "https://localhost:8080/"
        },
        "id": "n-yvrIXt6DKM",
        "outputId": "1ce1a0c9-300e-499d-eafc-50bb21709872"
      },
      "execution_count": 40,
      "outputs": [
        {
          "output_type": "stream",
          "name": "stdout",
          "text": [
            "CPU times: user 4 µs, sys: 0 ns, total: 4 µs\n",
            "Wall time: 7.39 µs\n"
          ]
        }
      ]
    },
    {
      "cell_type": "markdown",
      "source": [
        "However, we can compute the pseudo-intents of the frequent intents quite easily."
      ],
      "metadata": {
        "id": "BrasD79h5atG"
      }
    },
    {
      "cell_type": "code",
      "source": [
        "%%time\n",
        "pseudo_intents_freq = csp.list_pseudo_intents_via_keys(\n",
        "    keys_intent_map=keys_dict_freq.items(), intents=intents_freq,\n",
        "    use_tqdm=True, n_keys=len(keys_dict_freq)\n",
        ")\n",
        "print('\\n', len(pseudo_intents_freq))"
      ],
      "metadata": {
        "colab": {
          "base_uri": "https://localhost:8080/"
        },
        "id": "8_nnEAwm7Cqf",
        "outputId": "641715d4-598d-4166-c1b0-c6d49112f5bd"
      },
      "execution_count": 41,
      "outputs": [
        {
          "output_type": "stream",
          "name": "stderr",
          "text": [
            "Iterate p.intent candidates: 100%|██████████| 574/574 [00:00<00:00, 4491.42it/s]"
          ]
        },
        {
          "output_type": "stream",
          "name": "stdout",
          "text": [
            "\n",
            " 53\n",
            "CPU times: user 97.7 ms, sys: 0 ns, total: 97.7 ms\n",
            "Wall time: 145 ms\n"
          ]
        },
        {
          "output_type": "stream",
          "name": "stderr",
          "text": [
            "\n"
          ]
        }
      ]
    },
    {
      "cell_type": "code",
      "source": [
        "print(type(pseudo_intents_freq), len(pseudo_intents_freq))\n",
        "print(pseudo_intents_freq[0])"
      ],
      "metadata": {
        "colab": {
          "base_uri": "https://localhost:8080/"
        },
        "id": "rzN5Tjm-9O6G",
        "outputId": "1a083258-ed8f-46d7-a29a-67e349fe2342"
      },
      "execution_count": 42,
      "outputs": [
        {
          "output_type": "stream",
          "name": "stdout",
          "text": [
            "<class 'list'> 53\n",
            "(frozenbitarray('0000000000000000000000000000000000000000000000000000000000000000010'), 61)\n"
          ]
        }
      ]
    },
    {
      "cell_type": "code",
      "source": [
        "for pintent, intent_i in pseudo_intents_freq:\n",
        "  print(f\"{verbose(pintent)} => {verbose(intents_freq[intent_i]&~pintent)}\")"
      ],
      "metadata": {
        "colab": {
          "base_uri": "https://localhost:8080/"
        },
        "id": "idIzLUL59u8h",
        "outputId": "cf2e7a7b-cfc3-4ce1-9134-97fbe5ad0236"
      },
      "execution_count": 43,
      "outputs": [
        {
          "output_type": "stream",
          "name": "stdout",
          "text": [
            "winter => tree\n",
            "waves => ocean\n",
            "waterfall => tree\n",
            "trees => tree\n",
            "snowy_mountain => mountain\n",
            "snow => tree\n",
            "river => tree\n",
            "oval_frame => framed\n",
            "fog => tree\n",
            "deciduous => tree\n",
            "conifer => tree\n",
            "cabin => tree\n",
            "bushes => tree\n",
            "beach => ocean\n",
            "path,structure => tree\n",
            "ocean,rocks => waves\n",
            "mountain,structure => cabin,tree,trees\n",
            "lake,structure => tree\n",
            "lake,mountains => tree\n",
            "grass,structure => tree\n",
            "grass,path => tree\n",
            "grass,mountains => mountain,tree\n",
            "cumulus,mountains => clouds,mountain,tree\n",
            "clouds,mountains => mountain\n",
            "mountain,mountains,snowy_mountain => tree\n",
            "mountains,river,tree => mountain\n",
            "deciduous,tree,winter => snow\n",
            "deciduous,mountains,tree => mountain\n",
            "cumulus,river,tree => clouds,trees\n",
            "conifer,framed,tree => trees\n",
            "conifer,deciduous,tree => trees\n",
            "cabin,mountain,tree => trees\n",
            "bushes,conifer,tree => trees\n",
            "deciduous,grass,rocks,tree => trees\n",
            "conifer,mountain,tree,winter => trees\n",
            "conifer,mountain,snow,tree => trees\n",
            "conifer,lake,structure,tree => cabin,trees\n",
            "clouds,grass,river,tree => trees\n",
            "clouds,deciduous,grass,tree => trees\n",
            "clouds,conifer,structure,tree => cabin\n",
            "clouds,conifer,river,tree => trees\n",
            "cabin,conifer,lake,tree => trees\n",
            "bushes,mountain,river,tree => trees\n",
            "bushes,grass,mountain,tree => trees\n",
            "bushes,clouds,river,tree => trees\n",
            "bushes,clouds,lake,tree => trees\n",
            "conifer,mountain,mountains,snowy_mountain,tree => trees\n",
            "conifer,mountain,mountains,river,tree => trees\n",
            "conifer,cumulus,mountain,snowy_mountain,tree => trees\n",
            "clouds,conifer,mountain,snowy_mountain,tree => trees\n",
            "bushes,clouds,mountain,mountains,tree => trees\n",
            "clouds,mountain,mountains,snowy_mountain,tree,trees => conifer\n",
            "bushes,mountain,mountains,snowy_mountain,tree,trees => conifer\n"
          ]
        }
      ]
    },
    {
      "cell_type": "code",
      "source": [
        "len({pintent for pintent, _ in pseudo_intents_freq} & {ppremise for ppremise, _ in proper_premises_freq})"
      ],
      "metadata": {
        "colab": {
          "base_uri": "https://localhost:8080/"
        },
        "id": "dey8mF7qE9R5",
        "outputId": "1c1fa4d5-18e7-4123-f0cd-b394b2816df9"
      },
      "execution_count": 44,
      "outputs": [
        {
          "output_type": "execute_result",
          "data": {
            "text/plain": [
              "24"
            ]
          },
          "metadata": {},
          "execution_count": 44
        }
      ]
    },
    {
      "cell_type": "markdown",
      "source": [
        "## intents_ordering"
      ],
      "metadata": {
        "id": "Sl3q-LBNujxC"
      }
    },
    {
      "cell_type": "code",
      "source": [
        "%%time\n",
        "ordering = csp.sort_intents_inclusion(intents)"
      ],
      "metadata": {
        "colab": {
          "base_uri": "https://localhost:8080/"
        },
        "id": "24cQzbzguTnC",
        "outputId": "54b1966e-c09c-4ddf-dee1-ba652062b64c"
      },
      "execution_count": 45,
      "outputs": [
        {
          "output_type": "stream",
          "name": "stdout",
          "text": [
            "CPU times: user 122 ms, sys: 0 ns, total: 122 ms\n",
            "Wall time: 122 ms\n"
          ]
        }
      ]
    },
    {
      "cell_type": "code",
      "source": [
        "print(type(ordering), len(ordering))\n",
        "ordering[0]"
      ],
      "metadata": {
        "colab": {
          "base_uri": "https://localhost:8080/"
        },
        "id": "TmkSZDMJFZVS",
        "outputId": "9acbff50-f5fb-4ec4-be20-0a6df64326f5"
      },
      "execution_count": 46,
      "outputs": [
        {
          "output_type": "stream",
          "name": "stdout",
          "text": [
            "<class 'list'> 3463\n"
          ]
        },
        {
          "output_type": "execute_result",
          "data": {
            "text/plain": [
              "frozenbitarray('0111111111111111111111000000000000000000000000000000000000000000000000000000000000000000000000000000000000000000000000000000000000000000000000000000000000000000000000000000000000000000000000000000000000000000000000000000000000000000000000000000000000000000000000000000000000000000000000000000000000000000000000000000000000000000000000000000000000000000000000000000000000000000000000000000000000000000000000000000000000000000000000000000000000000000000000000000000000000000000000000000000000000000000000000000000000000000000000000000000000000000000000000000000000000000000000000000000000000000000000000000000000000000000000000000000000000000000000000000000000000000000000000000000000000000000000000000000000000000000000000000000000000000000000000000000000000000000000000000000000000000000000000000000000000000000000000000000000000000000000000000000000000000000000000000000000000000000000000000000000000000000000000000000000000000000000000000000000000000000000000000000000000000000000000000000000000000000000000000000000000000000000000000000000000000000000000000000000000000000000000000000000000000000000000000000000000000000000000000000000000000000000000000000000000000000000000000000000000000000000000000000000000000000000000000000000000000000000000000000000000000000000000000000000000000000000000000000000000000000000000000000000000000000000000000000000000000000000000000000000000000000000000000000000000000000000000000000000000000000000000000000000000000000000000000000000000000000000000000000000000000000000000000000000000000000000000000000000000000000000000000000000000000000000000000000000000000000000000000000000000000000000000000000000000000000000000000000000000000000000000000000000000000000000000000000000000000000000000000000000000000000000000000000000000000000000000000000000000000000000000000000000000000000000000000000000000000000000000000000000000000000000000000000000000000000000000000000000000000000000000000000000000000000000000000000000000000000000000000000000000000000000000000000000000000000000000000000000000000000000000000000000000000000000000000000000000000000000000000000000000000000000000000000000000000000000000000000000000000000000000000000000000000000000000000000000000000000000000000000000000000000000000000000000000000000000000000000000000000000000000000000000000000000000000000000000000000000000000000000000000000000000000000000000000000000000000000000000000000000000000000000000000000000000000000000000000000000000000000000000000000000000000000000000000000000000000000000000000000000000000000000000000000000000000000000000000000000000000000000000000000000000000000000000000000000000000000000000000000000000000000000000000000000000000000000000000000000000000000000000000000000000000000000000000000000000000000000000000000000000000000000000000000000000000000000000000000000000000000000000000000000000000000000000000000000000000000000000000000000000000000000000000000000000000000000000000000000000000000000000000000000000000000000000000000000000000000000000000000000000000000000000000000000000000000000000000000000000000000000000000000000000000000000000000000000000000000000000000000000000000000000000000000000000000000000000000000000000000000000000000000000000000000000000000000000000000000000000000000000000000000000000000000000000000000000000000000000000000000000000000000000000000000000000000000000000000000000000000000000000000000000000000000000000000000000000000000000000000000000000000000000000000000000000000000000000000000000')"
            ]
          },
          "metadata": {},
          "execution_count": 46
        }
      ]
    },
    {
      "cell_type": "code",
      "source": [
        "intents[0]"
      ],
      "metadata": {
        "colab": {
          "base_uri": "https://localhost:8080/"
        },
        "id": "ofEmNhstFq2Y",
        "outputId": "6956dcf8-fb0d-4c90-f58e-4922b2a1e7e9"
      },
      "execution_count": 47,
      "outputs": [
        {
          "output_type": "execute_result",
          "data": {
            "text/plain": [
              "frozenbitarray('0000000000000000000000000000000000000000000000000000000000000000000')"
            ]
          },
          "metadata": {},
          "execution_count": 47
        }
      ]
    },
    {
      "cell_type": "code",
      "source": [
        "with open('ordering.bal', 'wb') as file:\n",
        "  csp.base_functions.save_balist(file, ordering)\n",
        "!ls -lah 'ordering.bal'"
      ],
      "metadata": {
        "colab": {
          "base_uri": "https://localhost:8080/"
        },
        "id": "zjQTiiHRFyoK",
        "outputId": "f8a6a721-f144-4ed3-9864-c243032eab61"
      },
      "execution_count": 48,
      "outputs": [
        {
          "output_type": "stream",
          "name": "stdout",
          "text": [
            "-rw-r--r-- 1 root root 1.5M Jun 21 12:20 ordering.bal\n"
          ]
        }
      ]
    },
    {
      "cell_type": "markdown",
      "source": [
        "## Linearity, distributivity indices"
      ],
      "metadata": {
        "id": "LgBkWIbGGbzz"
      }
    },
    {
      "cell_type": "code",
      "source": [
        "subsumption_ordering = csp.order.inverse_order(ordering)\n",
        "trans_parents = csp.order.close_transitive_subsumption(subsumption_ordering)\n",
        "n_trans_parents = sum(tparents.count() for tparents in trans_parents)\n",
        "csp.linearity_index(n_trans_parents, len(intents))"
      ],
      "metadata": {
        "colab": {
          "base_uri": "https://localhost:8080/"
        },
        "id": "R8Prn7JPGtK1",
        "outputId": "cf6b5018-6556-49cd-d704-5a54cced22e6"
      },
      "execution_count": null,
      "outputs": [
        {
          "output_type": "execute_result",
          "data": {
            "text/plain": [
              "0.028063611475475744"
            ]
          },
          "metadata": {},
          "execution_count": 45
        }
      ]
    },
    {
      "cell_type": "code",
      "source": [
        "csp.distributivity_index(intents, parents=subsumption_ordering, n_trans_parents=n_trans_parents)"
      ],
      "metadata": {
        "colab": {
          "base_uri": "https://localhost:8080/"
        },
        "id": "R2pmBu2_HYZW",
        "outputId": "9a23dea4-9cb1-4739-c5cf-c6adb0d6e82d"
      },
      "execution_count": null,
      "outputs": [
        {
          "output_type": "execute_result",
          "data": {
            "text/plain": [
              "0.08914591539878618"
            ]
          },
          "metadata": {},
          "execution_count": 46
        }
      ]
    },
    {
      "cell_type": "markdown",
      "source": [
        "# Visualizing top stable concepts"
      ],
      "metadata": {
        "id": "jy0fHm6-H1vY"
      }
    },
    {
      "cell_type": "code",
      "source": [
        "%%time\n",
        "extents_stab = csp.mine_equivalence_classes.list_stable_extents_via_sofia(\n",
        "    attribute_extents, n_stable_extents=1000,\n",
        "    use_tqdm=True, n_attributes=len(attribute_extents)\n",
        ")\n",
        "print('\\n', len(extents_stab))"
      ],
      "metadata": {
        "colab": {
          "base_uri": "https://localhost:8080/"
        },
        "id": "LDFGZTY6tmz_",
        "outputId": "d70199cd-4591-4924-adf3-47c16b11cf1b"
      },
      "execution_count": null,
      "outputs": [
        {
          "output_type": "stream",
          "name": "stderr",
          "text": [
            "100%|██████████| 67/67 [00:03<00:00, 20.19it/s]"
          ]
        },
        {
          "output_type": "stream",
          "name": "stdout",
          "text": [
            "\n",
            " 827\n",
            "CPU times: user 2.41 s, sys: 7.31 ms, total: 2.42 s\n",
            "Wall time: 3.33 s\n"
          ]
        },
        {
          "output_type": "stream",
          "name": "stderr",
          "text": [
            "\n"
          ]
        }
      ]
    },
    {
      "cell_type": "code",
      "source": [
        "extents_stab = csp.order.topological_sorting(extents_stab)[0]\n",
        "delta_stability = list(csp.indices.delta_stability_index(extents_stab))"
      ],
      "metadata": {
        "id": "bBrVvmpzuH6w"
      },
      "execution_count": null,
      "outputs": []
    },
    {
      "cell_type": "code",
      "source": [
        "stable_extents_idxs = np.argsort(delta_stability)[-10:]\n",
        "np.array(delta_stability)[stable_extents_idxs]"
      ],
      "metadata": {
        "colab": {
          "base_uri": "https://localhost:8080/"
        },
        "id": "VJhRl8cXup79",
        "outputId": "100fb456-1ab0-4d26-c7a2-acdcd4f1b469"
      },
      "execution_count": null,
      "outputs": [
        {
          "output_type": "execute_result",
          "data": {
            "text/plain": [
              "array([ 40,  41,  42,  42,  42,  44,  49,  82, 116, 129])"
            ]
          },
          "metadata": {},
          "execution_count": 49
        }
      ]
    },
    {
      "cell_type": "code",
      "source": [
        "stable_extents = [extents_stab[i] for i in stable_extents_idxs]"
      ],
      "metadata": {
        "id": "-ygxj1FxwCFL"
      },
      "execution_count": null,
      "outputs": []
    },
    {
      "cell_type": "code",
      "source": [
        "stable_intents = [list(csp.base_functions.intention(set(extent.itersearch(True)), attribute_extents_sets)) for extent in stable_extents]\n",
        "stable_intents_ba = list(csp.base_functions.isets2bas(stable_intents, len(attribute_extents)))"
      ],
      "metadata": {
        "id": "Bqs36qFAwYyl"
      },
      "execution_count": null,
      "outputs": []
    },
    {
      "cell_type": "code",
      "source": [
        "for intent in stable_intents_ba:\n",
        "  print(verbose(intent))"
      ],
      "metadata": {
        "colab": {
          "base_uri": "https://localhost:8080/"
        },
        "id": "kqJDTsZFwndC",
        "outputId": "5d2709d2-0dfe-454a-a573-2396494f10dd"
      },
      "execution_count": null,
      "outputs": [
        {
          "output_type": "stream",
          "name": "stdout",
          "text": [
            "clouds,tree,trees\n",
            "bushes,tree,trees\n",
            "deciduous,lake,tree,trees\n",
            "river,tree,trees\n",
            "\n",
            "lake,tree,trees\n",
            "deciduous,grass,tree,trees\n",
            "conifer,tree,trees\n",
            "deciduous,tree,trees\n",
            "tree,trees\n"
          ]
        }
      ]
    },
    {
      "cell_type": "code",
      "source": [
        "for intent in stable_intents_ba:\n",
        "  equiv_class = csp.mine_equivalence_classes.iter_equivalence_class(attribute_extents, intent)\n",
        "  keys_per_intent = csp.mine_equivalence_classes.list_keys_via_eqclass(equiv_class)\n",
        "  print([verbose(key) for key in keys_per_intent])"
      ],
      "metadata": {
        "colab": {
          "base_uri": "https://localhost:8080/"
        },
        "id": "_SIDt8-zxpOP",
        "outputId": "b4ade6e6-2086-4144-a62e-ae4ad06f8d8d"
      },
      "execution_count": null,
      "outputs": [
        {
          "output_type": "stream",
          "name": "stdout",
          "text": [
            "['clouds,trees']\n",
            "['bushes,trees']\n",
            "['deciduous,lake,trees']\n",
            "['river,trees']\n",
            "['']\n",
            "['lake,trees']\n",
            "['deciduous,grass,trees']\n",
            "['conifer,trees']\n",
            "['deciduous,trees']\n",
            "['trees']\n"
          ]
        }
      ]
    },
    {
      "cell_type": "code",
      "source": [
        "top_intent = set(csp.base_functions.closure(set(), attribute_extents_sets))\n",
        "bottom_intent = set(range(len(attribute_extents)))\n",
        "top_intent_ba, bottom_intent_ba = csp.base_functions.isets2bas(\n",
        "    [top_intent, bottom_intent], len(attribute_extents)\n",
        ")\n",
        "\n",
        "lattice = csp.order.topological_sorting(set(stable_intents_ba) | {top_intent_ba, bottom_intent_ba})[0]\n",
        "ordering_stable = csp.sort_intents_inclusion(lattice)"
      ],
      "metadata": {
        "id": "xrR8ADgyydpc"
      },
      "execution_count": null,
      "outputs": []
    },
    {
      "cell_type": "code",
      "source": [
        "nodes = range(len(lattice))\n",
        "edges = [(parent, child)\n",
        " for parent, children in enumerate(ordering_stable)\n",
        " for child in children.itersearch(True)\n",
        "]"
      ],
      "metadata": {
        "id": "64YrR80j-ew9"
      },
      "execution_count": null,
      "outputs": []
    },
    {
      "cell_type": "code",
      "source": [
        "node_levels = []\n",
        "for parents_ba in csp.order.inverse_order(ordering_stable):\n",
        "  if not parents_ba.any():\n",
        "    node_level = 0\n",
        "  else:\n",
        "    node_level = max(node_levels[parent] for parent in parents_ba.itersearch(True))+1\n",
        "  node_levels.append(node_level)"
      ],
      "metadata": {
        "id": "p_7tLOAk-f7c"
      },
      "execution_count": null,
      "outputs": []
    },
    {
      "cell_type": "code",
      "source": [
        "node_labels = []\n",
        "for intent, parents_ba in zip(lattice, csp.order.inverse_order(ordering_stable)):\n",
        "  if intent == lattice[0]:\n",
        "    intent_label = 'Bob Ross episodes'\n",
        "  else:\n",
        "    label = intent\n",
        "    for parent_i in parents_ba.itersearch(True):\n",
        "      label = label & ~lattice[parent_i]\n",
        "\n",
        "    if intent == lattice[-1]:\n",
        "      intent_label = f'all {intent.count()} attrs.'\n",
        "    else:\n",
        "      intent_label = verbose(label)\n",
        "\n",
        "  support_label = len(csp.base_functions.extension(intent.itersearch(True), attribute_extents_sets))\n",
        "  node_labels.append(f\"{intent_label}\\n\\nsupp: {support_label:,}\")"
      ],
      "metadata": {
        "id": "gawNOMLZ-hZl"
      },
      "execution_count": null,
      "outputs": []
    },
    {
      "cell_type": "code",
      "source": [
        "import networkx as nx\n",
        "\n",
        "graph = nx.Graph()\n",
        "graph.add_nodes_from(nodes)\n",
        "graph.add_edges_from(edges)\n",
        "\n",
        "for node, level in enumerate(node_levels):\n",
        "  graph.nodes[node]['level'] = level\n",
        "\n",
        "pos = nx.drawing.layout.multipartite_layout(graph, subset_key='level')\n",
        "pos = {k: (y, -x) for k, (x, y) in pos.items()}"
      ],
      "metadata": {
        "id": "oOp_sMeY3WEr"
      },
      "execution_count": null,
      "outputs": []
    },
    {
      "cell_type": "code",
      "source": [
        "fig, ax = plt.subplots(figsize=(10, 7))\n",
        "\n",
        "nx.draw_networkx(\n",
        "    graph, pos=pos, labels=dict(enumerate(node_labels)), ax=ax,\n",
        "    node_color='lightblue', edge_color='lightgray',\n",
        "    font_size=14\n",
        ")\n",
        "\n",
        "plt.box(False)\n",
        "plt.savefig('bob_ross_episodes_lattice.pdf')\n",
        "plt.show()"
      ],
      "metadata": {
        "colab": {
          "base_uri": "https://localhost:8080/",
          "height": 576
        },
        "id": "d-Aaug_W11qG",
        "outputId": "b473c3d3-bb78-4f7d-ba7c-17fcda8580eb"
      },
      "execution_count": null,
      "outputs": [
        {
          "output_type": "display_data",
          "data": {
            "text/plain": [
              "<Figure size 1000x700 with 1 Axes>"
            ],
            "image/png": "[encoded data removed]"
          },
          "metadata": {}
        }
      ]
    }
  ]
}